{
 "metadata": {
  "name": "",
  "signature": "sha256:fb57c16f96f85ef125b67e754177865d9d475c5a97d3cd6ae5177cda8ed52552"
 },
 "nbformat": 3,
 "nbformat_minor": 0,
 "worksheets": [
  {
   "cells": [
    {
     "cell_type": "code",
     "collapsed": false,
     "input": [
      "CONSUMER_KEY = ''\n",
      "CONSUMER_SECRET = ''\n",
      "OAUTH_TOKEN = '2776028633-'\n",
      "OAUTH_TOKEN_SECRET = ''"
     ],
     "language": "python",
     "metadata": {},
     "outputs": [],
     "prompt_number": 1
    },
    {
     "cell_type": "code",
     "collapsed": false,
     "input": [
      "#startup command \n",
      "from scipy import fftpack\n",
      "import numpy as np\n",
      "import twitter\n",
      "import json, io\n",
      "import pymongo\n",
      "import cPickle as pickle\n",
      "import numpy as np\n",
      "import matplotlib.pyplot as plt\n",
      "import powerlaw\n",
      "%matplotlib inline\n",
      "\n",
      "auth = twitter.oauth.OAuth(OAUTH_TOKEN, OAUTH_TOKEN_SECRET, CONSUMER_KEY, CONSUMER_SECRET )\n",
      "twitter_api = twitter.Twitter(auth=auth)\n",
      "\n",
      "\n",
      "# In[5]:\n",
      "\n",
      "def save_json(filename, data):\n",
      "    with io.open('C:\\Users\\Peyman.n\\Documents\\Complex Networks Fall 2014/{0}.json'.format(filename), \n",
      "                 'w', encoding='utf-8') as f:\n",
      "        f.write(unicode(json.dumps(data, ensure_ascii=False)))\n",
      "\n",
      "def load_json(filename):\n",
      "    with io.open('C:\\Users\\Peyman.n\\Documents\\Complex Networks Fall 2014/{0}.json'.format(filename), \n",
      "                 encoding='utf-8') as f:\n",
      "        return f.read()\n",
      "\n",
      "def load_pickle(path):\n",
      "    return pickle.load(open(path, \"rb\"))\n",
      "def save_pickle(data, path):\n",
      "    with open(path,'wb') as file:\n",
      "        pickle.dump(data, file)\n",
      "# In[7]:\n",
      "\n",
      "def save_to_mongo(data , mongo_db, mongo_db_coll, **mongo_conn_kw):\n",
      "    client = pymongo.MongoClient(**mongo_conn_kw)\n",
      "    db = client[mongo_db]\n",
      "    coll = db[mongo_db_coll]\n",
      "    return coll.insert(data)\n",
      "def load_from_mongo( mongo_db, mongo_db_coll, return_cursor= False, criteria=None, projection = None, **mongo_conn_kw):\n",
      "    client = pymongo.MongoClient(**mongo_conn_kw)\n",
      "    db = client[mongo_db]\n",
      "    coll = db[mongo_db_coll]\n",
      "    \n",
      "    if criteria is None:\n",
      "        criteria = {}\n",
      "    if projection is None:\n",
      "        cursor = coll.find(criteria)\n",
      "    else:\n",
      "        cursor = coll.find(criteria, projection)\n",
      "    if return_cursor:\n",
      "        return cursor\n",
      "    else:\n",
      "        return [item for item in cursor]\n",
      "\n",
      "\n",
      "# In[8]:\n",
      "\n",
      "def twitter_search(twitter_api, q, max_results=200, **kw):\n",
      "\n",
      "    # See https://dev.twitter.com/docs/api/1.1/get/search/tweets and \n",
      "    # https://dev.twitter.com/docs/using-search for details on advanced \n",
      "    # search criteria that may be useful for keyword arguments\n",
      "    \n",
      "    # See https://dev.twitter.com/docs/api/1.1/get/search/tweets    \n",
      "    search_results = twitter_api.search.tweets(q=q, count=100, **kw)\n",
      "    \n",
      "    statuses = search_results['statuses']\n",
      "    \n",
      "    # Iterate through batches of results by following the cursor until we\n",
      "    # reach the desired number of results, keeping in mind that OAuth users\n",
      "    # can \"only\" make 180 search queries per 15-minute interval. See\n",
      "    # https://dev.twitter.com/docs/rate-limiting/1.1/limits\n",
      "    # for details. A reasonable number of results is ~1000, although\n",
      "    # that number of results may not exist for all queries.\n",
      "    \n",
      "    # Enforce a reasonable limit\n",
      "    max_results = min(1000, max_results)\n",
      "    \n",
      "    for _ in range(10): # 10*100 = 1000\n",
      "        try:\n",
      "            next_results = search_results['search_metadata']['next_results']\n",
      "        except KeyError, e: # No more results when next_results doesn't exist\n",
      "            break\n",
      "            \n",
      "        # Create a dictionary from next_results, which has the following form:\n",
      "        # ?max_id=313519052523986943&q=NCAA&include_entities=1\n",
      "        kwargs = dict([ kv.split('=') \n",
      "                        for kv in next_results[1:].split(\"&\") ])\n",
      "        \n",
      "        search_results = twitter_api.search.tweets(**kwargs)\n",
      "        statuses += search_results['statuses']\n",
      "        \n",
      "        if len(statuses) > max_results: \n",
      "            break\n",
      "            \n",
      "    return statuses\n",
      "\n",
      "\n",
      "# In[9]:\n",
      "\n",
      "import sys\n",
      "import time\n",
      "from urllib2 import URLError\n",
      "from httplib import BadStatusLine\n",
      "import json\n",
      "import twitter\n",
      "\n",
      "def make_twitter_request(twitter_api_func, max_errors=10, *args, **kw): \n",
      "    \n",
      "    # A nested helper function that handles common HTTPErrors. Return an updated\n",
      "    # value for wait_period if the problem is a 500 level error. Block until the\n",
      "    # rate limit is reset if it's a rate limiting issue (429 error). Returns None\n",
      "    # for 401 and 404 errors, which requires special handling by the caller.\n",
      "    def handle_twitter_http_error(e, wait_period=2, sleep_when_rate_limited=True):\n",
      "    \n",
      "        if wait_period > 3600: # Seconds\n",
      "            print >> sys.stderr, 'Too many retries. Quitting.'\n",
      "            raise e\n",
      "    \n",
      "        # See https://dev.twitter.com/docs/error-codes-responses for common codes\n",
      "    \n",
      "        if e.e.code == 401:\n",
      "            print >> sys.stderr, 'Encountered 401 Error (Not Authorized)'\n",
      "            return None\n",
      "        elif e.e.code == 404:\n",
      "            print >> sys.stderr, 'Encountered 404 Error (Not Found)'\n",
      "            return None\n",
      "        elif e.e.code == 429: \n",
      "            print >> sys.stderr, 'Encountered 429 Error (Rate Limit Exceeded)'\n",
      "            if sleep_when_rate_limited:\n",
      "                print >> sys.stderr, \"Retrying in 15 minutes...ZzZ...\"\n",
      "                sys.stderr.flush()\n",
      "                time.sleep(60*15 + 5)\n",
      "                print >> sys.stderr, '...ZzZ...Awake now and trying again.'\n",
      "                return 2\n",
      "            else:\n",
      "                raise e # Caller must handle the rate limiting issue\n",
      "        elif e.e.code in (500, 502, 503, 504):\n",
      "            print >> sys.stderr, 'Encountered %i Error. Retrying in %i seconds' %                 (e.e.code, wait_period)\n",
      "            time.sleep(wait_period)\n",
      "            wait_period *= 1.5\n",
      "            return wait_period\n",
      "        else:\n",
      "            raise e\n",
      "\n",
      "    # End of nested helper function\n",
      "    \n",
      "    wait_period = 2 \n",
      "    error_count = 0 \n",
      "\n",
      "    while True:\n",
      "        try:\n",
      "            return twitter_api_func(*args, **kw)\n",
      "        except twitter.api.TwitterHTTPError, e:\n",
      "            error_count = 0 \n",
      "            wait_period = handle_twitter_http_error(e, wait_period)\n",
      "            if wait_period is None:\n",
      "                return\n",
      "        except URLError, e:\n",
      "            error_count += 1\n",
      "            time.sleep(wait_period)\n",
      "            wait_period *= 1.5\n",
      "            print >> sys.stderr, \"URLError encountered. Continuing.\"\n",
      "            if error_count > max_errors:\n",
      "                print >> sys.stderr, \"Too many consecutive errors...bailing out.\"\n",
      "                raise\n",
      "        except BadStatusLine, e:\n",
      "            error_count += 1\n",
      "            time.sleep(wait_period)\n",
      "            wait_period *= 1.5\n",
      "            print >> sys.stderr, \"BadStatusLine encountered. Continuing.\"\n",
      "            if error_count > max_errors:\n",
      "                print >> sys.stderr, \"Too many consecutive errors...bailing out.\"\n",
      "                raise\n",
      "\n",
      "# Sample usage\n",
      "\n",
      "#twitter_api = oauth_login()\n",
      "\n",
      "# See https://dev.twitter.com/docs/api/1.1/get/users/lookup for \n",
      "# twitter_api.users.lookup\n",
      "\n",
      "#response = make_twitter_request(twitter_api.users.lookup, \n",
      "                                #screen_name=\"SocialWebMining\")\n",
      "\n",
      "\n",
      "# In[10]:\n",
      "\n",
      "from functools import partial\n",
      "from sys import maxint\n",
      "\n",
      "def get_friends_followers_ids(twitter_api, screen_name=None, user_id=None,\n",
      "                              friends_limit=maxint, followers_limit=maxint):\n",
      "    \n",
      "    # Must have either screen_name or user_id (logical xor)\n",
      "    assert (screen_name != None) != (user_id != None),     \"Must have screen_name or user_id, but not both\"\n",
      "    \n",
      "    # See https://dev.twitter.com/docs/api/1.1/get/friends/ids and\n",
      "    # https://dev.twitter.com/docs/api/1.1/get/followers/ids for details\n",
      "    # on API parameters\n",
      "    \n",
      "    get_friends_ids = partial(make_twitter_request, twitter_api.friends.ids, \n",
      "                              count=5000)\n",
      "    get_followers_ids = partial(make_twitter_request, twitter_api.followers.ids, \n",
      "                                count=5000)\n",
      "\n",
      "    friends_ids, followers_ids = [], []\n",
      "    \n",
      "    for twitter_api_func, limit, ids, label in [\n",
      "                    [get_friends_ids, friends_limit, friends_ids, \"friends\"], \n",
      "                    [get_followers_ids, followers_limit, followers_ids, \"followers\"]\n",
      "                ]:\n",
      "        \n",
      "        if limit == 0: continue\n",
      "        \n",
      "        cursor = -1\n",
      "        while cursor != 0:\n",
      "        \n",
      "            # Use make_twitter_request via the partially bound callable...\n",
      "            if screen_name: \n",
      "                response = twitter_api_func(screen_name=screen_name, cursor=cursor)\n",
      "            else: # user_id\n",
      "                response = twitter_api_func(user_id=user_id, cursor=cursor)\n",
      "\n",
      "            if response is not None:\n",
      "                ids += response['ids']\n",
      "                cursor = response['next_cursor']\n",
      "        \n",
      "            print >> sys.stderr, 'Fetched {0} total {1} ids for {2}'.format(len(ids), \n",
      "                                                    label, (user_id or screen_name))\n",
      "        \n",
      "            # XXX: You may want to store data during each iteration to provide an \n",
      "            # an additional layer of protection from exceptional circumstances\n",
      "        \n",
      "            if len(ids) >= limit or response is None:\n",
      "                break\n",
      "\n",
      "    # Do something useful with the IDs, like store them to disk...\n",
      "    return friends_ids[:friends_limit], followers_ids[:followers_limit]\n",
      "\n",
      "# Sample usage\n",
      "\n",
      "#twitter_api = oauth_login()\n",
      "\n",
      "#friends_ids, followers_ids = get_friends_followers_ids(twitter_api, \n",
      "                                                       #screen_name=\"SocialWebMining\", \n",
      "                                                       #friends_limit=10, \n",
      "                                                       #followers_limit=10)\n",
      "\n",
      "\n",
      "# In[20]:\n",
      "\n",
      "def crawl_followers(twitter_api, screen_name, limit=1000000, depth=1):\n",
      "    \n",
      "    # Resolve the ID for screen_name and start working with IDs for consistency \n",
      "    # in storage\n",
      "\n",
      "    seed_id = str(twitter_api.users.show(screen_name=screen_name)['id'])\n",
      "    \n",
      "    _, next_queue = get_friends_followers_ids(twitter_api, user_id=seed_id, \n",
      "                                              friends_limit=0, followers_limit=limit)\n",
      "\n",
      "    # Store a seed_id => _follower_ids mapping in MongoDB\n",
      "    \n",
      "    save_to_mongo({'followers' : [ _id for _id in next_queue ]}, 'followers_crawl', \n",
      "                  '{0}-follower_ids'.format(seed_id))\n",
      "    \n",
      "    d = 1\n",
      "    while d < depth:\n",
      "        d += 1\n",
      "        (queue, next_queue) = (next_queue, [])\n",
      "        for fid in queue:\n",
      "            _, follower_ids = get_friends_followers_ids(twitter_api, user_id=fid, \n",
      "                                                     friends_limit=0, \n",
      "                                                     followers_limit=limit)\n",
      "            \n",
      "            # Store a fid => follower_ids mapping in MongoDB\n",
      "            save_to_mongo({'followers' : [ _id for _id in follower_ids ]}, \n",
      "                          'followers_crawl', '{0}-follower_ids'.format(fid))\n",
      "            \n",
      "            next_queue += follower_ids\n",
      "\n",
      "# Sample usage\n",
      "\n",
      "screen_name = \"barabasi\"\n",
      "barabasi_id = str(twitter_api.users.show(screen_name=screen_name)['id'])\n",
      "#twitter_api = oauth_login()\n",
      "\n",
      "#crawl_followers(twitter_api, screen_name, depth=1, limit=10000)\n",
      "\n",
      "\n",
      "# In[11]:\n",
      "\n",
      "def my_crawl_friends_using_ID(twitter_api, user_id, save_file,limit=10000, depth=1):\n",
      "    \n",
      "    #seed_id = str(twitter_api.users.show(screen_name=screen_name)['id'])\n",
      "    seed_id = user_id\n",
      "    \n",
      "    next_queue, _ = get_friends_followers_ids(twitter_api, user_id=seed_id, \n",
      "                                              friends_limit=limit, followers_limit=0)\n",
      "\n",
      "    \n",
      "    \n",
      "    with open(save_file,'a') as the_file:\n",
      "        for id in next_queue:\n",
      "            the_file.write(str(seed_id) + \" \" + str(id)+\"\\r\\n\")\n",
      "                           \n",
      "#     save_to_mongo({'followers' : [ _id for _id in next_queue ]}, 'followers_crawl', \n",
      "#                   '{0}-follower_ids'.format(seed_id))\n",
      "    \n",
      "    d = 1\n",
      "    while d < depth:\n",
      "        d += 1\n",
      "        (queue, next_queue) = (next_queue, [])\n",
      "        for fid in queue:\n",
      "            friend_ids, _ = get_friends_followers_ids(twitter_api, user_id=fid, \n",
      "                                                     friends_limit=limit, \n",
      "                                                     followers_limit=0)\n",
      "\n",
      "\n",
      "            with open(save_file,'a') as the_file:\n",
      "                for id in friend_ids:\n",
      "                    the_file.write(str(fid) + \" \" + str(id)+\"\\r\\n\")\n",
      "            next_queue += friend_ids\n",
      "\n",
      "\n",
      "# In[11]:\n",
      "\n",
      "# def crawl_friends_using_ID(twitter_api, user_id, limit=1000, depth=1):\n",
      "    \n",
      "#     # Resolve the ID for screen_name and start working with IDs for consistency \n",
      "#     # in storage\n",
      "\n",
      "#     #seed_id = str(twitter_api.users.show(screen_name=screen_name)['id'])\n",
      "#     seed_id = user_id\n",
      "    \n",
      "#     next_queue, _ = get_friends_followers_ids(twitter_api, user_id=seed_id, \n",
      "#                                               friends_limit=limit, followers_limit=0)\n",
      "\n",
      "#     # Store a seed_id => _follower_ids mapping in MongoDB\n",
      "    \n",
      "#     save_to_mongo({'followers' : [ _id for _id in next_queue ]}, 'followers_crawl', \n",
      "#                   '{0}-follower_ids'.format(seed_id))\n",
      "    \n",
      "#     d = 1\n",
      "#     while d < depth:\n",
      "#         d += 1\n",
      "#         (queue, next_queue) = (next_queue, [])\n",
      "#         for fid in queue:\n",
      "#             friend_ids, _ = get_friends_followers_ids(twitter_api, user_id=fid, \n",
      "#                                                      friends_limit=limit, \n",
      "#                                                      followers_limit=0)\n",
      "            \n",
      "#             # Store a fid => follower_ids mapping in MongoDB\n",
      "#             save_to_mongo({'followers' : [ _id for _id in friend_ids ]}, \n",
      "#                           'followers_crawl', '{0}-follower_ids'.format(fid))\n",
      "            \n",
      "#             next_queue += friend_ids\n",
      "\n",
      "            \n",
      "screen_name = \"barabasi\"\n",
      "\n",
      "\n",
      "# In[6]:\n",
      "\n",
      "def harvest_user_timeline(twitter_api, screen_name=None, user_id=None, max_results=10000):\n",
      "     \n",
      "    assert (screen_name != None) != (user_id != None),     \"Must have screen_name or user_id, but not both\"    \n",
      "    \n",
      "    kw = {  # Keyword args for the Twitter API call\n",
      "        'count': 200,\n",
      "        'trim_user': 'true',\n",
      "        'include_rts' : 'true',\n",
      "        'since_id' : 1\n",
      "        }\n",
      "    \n",
      "    if screen_name:\n",
      "        kw['screen_name'] = screen_name\n",
      "    else:\n",
      "        kw['user_id'] = user_id\n",
      "        \n",
      "    max_pages = 16\n",
      "    results = []\n",
      "    \n",
      "    tweets = make_twitter_request(twitter_api.statuses.user_timeline, **kw)\n",
      "    \n",
      "    if tweets is None: # 401 (Not Authorized) - Need to bail out on loop entry\n",
      "        tweets = []\n",
      "        \n",
      "    results += tweets\n",
      "    \n",
      "    print >> sys.stderr, 'Fetched %i tweets' % len(tweets)\n",
      "    \n",
      "    page_num = 1\n",
      "    \n",
      "    # Many Twitter accounts have fewer than 200 tweets so you don't want to enter\n",
      "    # the loop and waste a precious request if max_results = 200.\n",
      "    \n",
      "    # Note: Analogous optimizations could be applied inside the loop to try and \n",
      "    # save requests. e.g. Don't make a third request if you have 287 tweets out of \n",
      "    # a possible 400 tweets after your second request. Twitter does do some \n",
      "    # post-filtering on censored and deleted tweets out of batches of 'count', though,\n",
      "    # so you can't strictly check for the number of results being 200. You might get\n",
      "    # back 198, for example, and still have many more tweets to go. If you have the\n",
      "    # total number of tweets for an account (by GET /users/lookup/), then you could \n",
      "    # simply use this value as a guide.\n",
      "    \n",
      "    if max_results == kw['count']:\n",
      "        page_num = max_pages # Prevent loop entry\n",
      "    \n",
      "    while page_num < max_pages and len(tweets) > 0 and len(results) < max_results:\n",
      "    \n",
      "        # Necessary for traversing the timeline in Twitter's v1.1 API:\n",
      "        # get the next query's max-id parameter to pass in.\n",
      "        # See https://dev.twitter.com/docs/working-with-timelines.\n",
      "        kw['max_id'] = min([ tweet['id'] for tweet in tweets]) - 1 \n",
      "    \n",
      "        tweets = make_twitter_request(twitter_api.statuses.user_timeline, **kw)\n",
      "        results += tweets\n",
      "\n",
      "        print >> sys.stderr, 'Fetched %i tweets' % (len(tweets),)\n",
      "    \n",
      "        page_num += 1\n",
      "        \n",
      "    print >> sys.stderr, 'Done fetching tweets'\n",
      "\n",
      "    return results[:max_results]\n",
      "\n",
      "def find_popular_tweets(twitter_api, statuses, retweet_threshold=20):\n",
      "    return [status for status in statuses if status['retweet_count'] > retweet_threshold]\n",
      "\n",
      "def find_the_most_retweeted_tweet(twitter_api,tweets):\n",
      "    temp = sorted(tweets, key=lambda x : x['retweet_count'], reverse=True)\n",
      "    return temp\n",
      "\n",
      "from functools import partial \n",
      "def get_retweeters_ids_of_list_of_tweets(twitter_api, tweets):\n",
      "    #Returns a dictionary where the key is the id of a tweet and its value is a list of ids, representing those \n",
      "    # who retweeted it\n",
      "    #id of each popular tweet\n",
      "    ids = [tweet['id_str']for tweet in tweets]\n",
      "    tweet_retweeters = {}\n",
      "    #making robust twitter requests\n",
      "    get_retweeters_ids = partial(make_twitter_request, twitter_api.statuses.retweeters.ids)\n",
      "    for id in ids:\n",
      "        tweet_retweeters[id] = get_retweeters_ids(_id = id)['ids']\n",
      "    return tweet_retweeters\n",
      "\n",
      "def get_user_profile(twitter_api, screen_names=None, user_ids = None ): \n",
      "    assert (screen_names!= None) != (user_ids!=None)\n",
      "    \n",
      "    items_to_info = {}\n",
      "    items = screen_names or user_ids\n",
      "    while len(items) > 0 :\n",
      "        items_str = ','.join([str(item) for item in items[:100]])\n",
      "        items = items[100:]\n",
      "        \n",
      "        if screen_names:\n",
      "            response = make_twitter_request(twitter_api.users.lookup, screen_name= items_str)\n",
      "        else:\n",
      "            response = make_twitter_request(twitter_api.users.lookup, user_id = items_str)\n",
      "        \n",
      "        for user_info in response:\n",
      "            if screen_names:\n",
      "                items_to_info[user_info['screen_name']] = user_info\n",
      "            else:\n",
      "                items_to_info[user_info['id']] = user_info\n",
      "                \n",
      "    return items_to_info"
     ],
     "language": "python",
     "metadata": {},
     "outputs": [],
     "prompt_number": 2
    },
    {
     "cell_type": "code",
     "collapsed": false,
     "input": [
      "import time \n",
      "start = time.time()\n",
      "path = \"C:/Users/noursalehi.p/Downloads/Twitter Project\\\\\"\n",
      "friend_ids = load_pickle(path+\"barabasi_friend_ids.pickle\")\n",
      "for id in friend_ids:\n",
      "    my_crawl_friends_using_ID(twitter_api, id, path+\"new_net.txt\", depth=1)\n",
      "end = time.time()\n",
      "print \"Done\", (end-start)/3600.0 , \"minutes\""
     ],
     "language": "python",
     "metadata": {},
     "outputs": [
      {
       "output_type": "stream",
       "stream": "stderr",
       "text": [
        "Fetched 291 total friends ids for 121880751\n",
        "Fetched 269 total friends ids for 331515265"
       ]
      },
      {
       "output_type": "stream",
       "stream": "stderr",
       "text": [
        "\n",
        "Fetched 500 total friends ids for 22749476"
       ]
      },
      {
       "output_type": "stream",
       "stream": "stderr",
       "text": [
        "\n",
        "Fetched 218 total friends ids for 2348642744"
       ]
      },
      {
       "output_type": "stream",
       "stream": "stderr",
       "text": [
        "\n",
        "Fetched 980 total friends ids for 13205612"
       ]
      },
      {
       "output_type": "stream",
       "stream": "stderr",
       "text": [
        "\n",
        "Fetched 409 total friends ids for 75641981"
       ]
      },
      {
       "output_type": "stream",
       "stream": "stderr",
       "text": [
        "\n",
        "Fetched 110 total friends ids for 306211107"
       ]
      },
      {
       "output_type": "stream",
       "stream": "stderr",
       "text": [
        "\n",
        "Fetched 584 total friends ids for 588596248"
       ]
      },
      {
       "output_type": "stream",
       "stream": "stderr",
       "text": [
        "\n",
        "Fetched 173 total friends ids for 122080635"
       ]
      },
      {
       "output_type": "stream",
       "stream": "stderr",
       "text": [
        "\n",
        "Fetched 360 total friends ids for 17230461"
       ]
      },
      {
       "output_type": "stream",
       "stream": "stderr",
       "text": [
        "\n",
        "Fetched 180 total friends ids for 2424151074"
       ]
      },
      {
       "output_type": "stream",
       "stream": "stderr",
       "text": [
        "\n",
        "Fetched 33 total friends ids for 920174594"
       ]
      },
      {
       "output_type": "stream",
       "stream": "stderr",
       "text": [
        "\n",
        "Fetched 2286 total friends ids for 21581503"
       ]
      },
      {
       "output_type": "stream",
       "stream": "stderr",
       "text": [
        "\n",
        "Fetched 467 total friends ids for 1435461"
       ]
      },
      {
       "output_type": "stream",
       "stream": "stderr",
       "text": [
        "\n",
        "Fetched 1000 total friends ids for 43105334"
       ]
      },
      {
       "output_type": "stream",
       "stream": "stderr",
       "text": [
        "\n",
        "Encountered 429 Error (Rate Limit Exceeded)"
       ]
      },
      {
       "output_type": "stream",
       "stream": "stderr",
       "text": [
        "\n",
        "Retrying in 15 minutes...ZzZ...\n"
       ]
      },
      {
       "output_type": "stream",
       "stream": "stderr",
       "text": [
        "...ZzZ...Awake now and trying again.\n",
        "Fetched 164 total friends ids for 2377581384"
       ]
      },
      {
       "output_type": "stream",
       "stream": "stderr",
       "text": [
        "\n",
        "Fetched 177 total friends ids for 122923376"
       ]
      },
      {
       "output_type": "stream",
       "stream": "stderr",
       "text": [
        "\n",
        "Fetched 116 total friends ids for 101550325"
       ]
      },
      {
       "output_type": "stream",
       "stream": "stderr",
       "text": [
        "\n",
        "Fetched 592 total friends ids for 14085070"
       ]
      },
      {
       "output_type": "stream",
       "stream": "stderr",
       "text": [
        "\n",
        "Fetched 32 total friends ids for 997629601"
       ]
      },
      {
       "output_type": "stream",
       "stream": "stderr",
       "text": [
        "\n",
        "Fetched 30 total friends ids for 107225267"
       ]
      },
      {
       "output_type": "stream",
       "stream": "stderr",
       "text": [
        "\n",
        "Fetched 51 total friends ids for 525785424"
       ]
      },
      {
       "output_type": "stream",
       "stream": "stderr",
       "text": [
        "\n",
        "Fetched 5000 total friends ids for 235124903"
       ]
      },
      {
       "output_type": "stream",
       "stream": "stderr",
       "text": [
        "\n",
        "Fetched 7271 total friends ids for 235124903"
       ]
      },
      {
       "output_type": "stream",
       "stream": "stderr",
       "text": [
        "\n",
        "Fetched 56 total friends ids for 2338824692"
       ]
      },
      {
       "output_type": "stream",
       "stream": "stderr",
       "text": [
        "\n",
        "Fetched 696 total friends ids for 65701942"
       ]
      },
      {
       "output_type": "stream",
       "stream": "stderr",
       "text": [
        "\n",
        "Fetched 352 total friends ids for 317422543"
       ]
      },
      {
       "output_type": "stream",
       "stream": "stderr",
       "text": [
        "\n",
        "Fetched 156 total friends ids for 146175976"
       ]
      },
      {
       "output_type": "stream",
       "stream": "stderr",
       "text": [
        "\n",
        "Fetched 5000 total friends ids for 108286674"
       ]
      },
      {
       "output_type": "stream",
       "stream": "stderr",
       "text": [
        "\n",
        "Fetched 10000 total friends ids for 108286674"
       ]
      },
      {
       "output_type": "stream",
       "stream": "stderr",
       "text": [
        "\n",
        "Encountered 429 Error (Rate Limit Exceeded)"
       ]
      },
      {
       "output_type": "stream",
       "stream": "stderr",
       "text": [
        "\n",
        "Retrying in 15 minutes...ZzZ...\n"
       ]
      },
      {
       "output_type": "stream",
       "stream": "stderr",
       "text": [
        "...ZzZ...Awake now and trying again.\n",
        "Fetched 99 total friends ids for 782325"
       ]
      },
      {
       "output_type": "stream",
       "stream": "stderr",
       "text": [
        "\n",
        "Fetched 99 total friends ids for 22067328"
       ]
      },
      {
       "output_type": "stream",
       "stream": "stderr",
       "text": [
        "\n",
        "Fetched 122 total friends ids for 146105775"
       ]
      },
      {
       "output_type": "stream",
       "stream": "stderr",
       "text": [
        "\n",
        "Fetched 24 total friends ids for 19920203"
       ]
      },
      {
       "output_type": "stream",
       "stream": "stderr",
       "text": [
        "\n",
        "Fetched 61 total friends ids for 1937243048"
       ]
      },
      {
       "output_type": "stream",
       "stream": "stderr",
       "text": [
        "\n",
        "Fetched 377 total friends ids for 59550822"
       ]
      },
      {
       "output_type": "stream",
       "stream": "stderr",
       "text": [
        "\n",
        "Fetched 1166 total friends ids for 17462723"
       ]
      },
      {
       "output_type": "stream",
       "stream": "stderr",
       "text": [
        "\n",
        "Fetched 656 total friends ids for 49793"
       ]
      },
      {
       "output_type": "stream",
       "stream": "stderr",
       "text": [
        "\n",
        "Fetched 516 total friends ids for 230944453"
       ]
      },
      {
       "output_type": "stream",
       "stream": "stderr",
       "text": [
        "\n",
        "Fetched 299 total friends ids for 84351228"
       ]
      },
      {
       "output_type": "stream",
       "stream": "stderr",
       "text": [
        "\n",
        "Fetched 199 total friends ids for 11388132"
       ]
      },
      {
       "output_type": "stream",
       "stream": "stderr",
       "text": [
        "\n",
        "Fetched 738 total friends ids for 152143"
       ]
      },
      {
       "output_type": "stream",
       "stream": "stderr",
       "text": [
        "\n",
        "Fetched 14 total friends ids for 1611332490"
       ]
      },
      {
       "output_type": "stream",
       "stream": "stderr",
       "text": [
        "\n",
        "Fetched 38 total friends ids for 632724692"
       ]
      },
      {
       "output_type": "stream",
       "stream": "stderr",
       "text": [
        "\n",
        "Fetched 132 total friends ids for 1546977270"
       ]
      },
      {
       "output_type": "stream",
       "stream": "stderr",
       "text": [
        "\n",
        "Encountered 429 Error (Rate Limit Exceeded)"
       ]
      },
      {
       "output_type": "stream",
       "stream": "stderr",
       "text": [
        "\n",
        "Retrying in 15 minutes...ZzZ...\n"
       ]
      },
      {
       "output_type": "stream",
       "stream": "stderr",
       "text": [
        "...ZzZ...Awake now and trying again.\n",
        "Fetched 19 total friends ids for 1937802288"
       ]
      },
      {
       "output_type": "stream",
       "stream": "stderr",
       "text": [
        "\n",
        "Fetched 122 total friends ids for 32807399"
       ]
      },
      {
       "output_type": "stream",
       "stream": "stderr",
       "text": [
        "\n",
        "Fetched 124 total friends ids for 1704085728"
       ]
      },
      {
       "output_type": "stream",
       "stream": "stderr",
       "text": [
        "\n",
        "Fetched 44 total friends ids for 8381682"
       ]
      },
      {
       "output_type": "stream",
       "stream": "stderr",
       "text": [
        "\n",
        "Fetched 88 total friends ids for 166008261"
       ]
      },
      {
       "output_type": "stream",
       "stream": "stderr",
       "text": [
        "\n",
        "Fetched 3 total friends ids for 20338124"
       ]
      },
      {
       "output_type": "stream",
       "stream": "stderr",
       "text": [
        "\n",
        "Fetched 569 total friends ids for 103973912"
       ]
      },
      {
       "output_type": "stream",
       "stream": "stderr",
       "text": [
        "\n",
        "Fetched 677 total friends ids for 16017475"
       ]
      },
      {
       "output_type": "stream",
       "stream": "stderr",
       "text": [
        "\n",
        "Fetched 173 total friends ids for 109533154"
       ]
      },
      {
       "output_type": "stream",
       "stream": "stderr",
       "text": [
        "\n",
        "Fetched 1112 total friends ids for 229910053"
       ]
      },
      {
       "output_type": "stream",
       "stream": "stderr",
       "text": [
        "\n",
        "Fetched 565 total friends ids for 37213193"
       ]
      },
      {
       "output_type": "stream",
       "stream": "stderr",
       "text": [
        "\n",
        "Fetched 202 total friends ids for 26000689"
       ]
      },
      {
       "output_type": "stream",
       "stream": "stderr",
       "text": [
        "\n",
        "Fetched 278 total friends ids for 16191522"
       ]
      },
      {
       "output_type": "stream",
       "stream": "stderr",
       "text": [
        "\n",
        "Fetched 296 total friends ids for 77990334"
       ]
      },
      {
       "output_type": "stream",
       "stream": "stderr",
       "text": [
        "\n",
        "Fetched 2695 total friends ids for 40953367"
       ]
      },
      {
       "output_type": "stream",
       "stream": "stderr",
       "text": [
        "\n",
        "Encountered 429 Error (Rate Limit Exceeded)"
       ]
      },
      {
       "output_type": "stream",
       "stream": "stderr",
       "text": [
        "\n",
        "Retrying in 15 minutes...ZzZ...\n"
       ]
      },
      {
       "output_type": "stream",
       "stream": "stderr",
       "text": [
        "...ZzZ...Awake now and trying again.\n",
        "Fetched 446 total friends ids for 255048621"
       ]
      },
      {
       "output_type": "stream",
       "stream": "stderr",
       "text": [
        "\n",
        "Fetched 622 total friends ids for 1522281432"
       ]
      },
      {
       "output_type": "stream",
       "stream": "stderr",
       "text": [
        "\n",
        "Fetched 30 total friends ids for 1495700372"
       ]
      },
      {
       "output_type": "stream",
       "stream": "stderr",
       "text": [
        "\n",
        "Fetched 112 total friends ids for 788363167"
       ]
      },
      {
       "output_type": "stream",
       "stream": "stderr",
       "text": [
        "\n",
        "Fetched 431 total friends ids for 582161546"
       ]
      },
      {
       "output_type": "stream",
       "stream": "stderr",
       "text": [
        "\n",
        "Fetched 32 total friends ids for 972998328"
       ]
      },
      {
       "output_type": "stream",
       "stream": "stderr",
       "text": [
        "\n",
        "Fetched 115 total friends ids for 94596289"
       ]
      },
      {
       "output_type": "stream",
       "stream": "stderr",
       "text": [
        "\n",
        "Fetched 1096 total friends ids for 633"
       ]
      },
      {
       "output_type": "stream",
       "stream": "stderr",
       "text": [
        "\n",
        "Fetched 701 total friends ids for 14093970"
       ]
      },
      {
       "output_type": "stream",
       "stream": "stderr",
       "text": [
        "\n",
        "Fetched 305 total friends ids for 1833561"
       ]
      },
      {
       "output_type": "stream",
       "stream": "stderr",
       "text": [
        "\n",
        "Fetched 442 total friends ids for 24411159"
       ]
      },
      {
       "output_type": "stream",
       "stream": "stderr",
       "text": [
        "\n",
        "Fetched 458 total friends ids for 304928205"
       ]
      },
      {
       "output_type": "stream",
       "stream": "stderr",
       "text": [
        "\n",
        "Fetched 2185 total friends ids for 32729442"
       ]
      },
      {
       "output_type": "stream",
       "stream": "stderr",
       "text": [
        "\n",
        "Fetched 121 total friends ids for 755293986"
       ]
      },
      {
       "output_type": "stream",
       "stream": "stderr",
       "text": [
        "\n",
        "Fetched 413 total friends ids for 415906140"
       ]
      },
      {
       "output_type": "stream",
       "stream": "stderr",
       "text": [
        "\n",
        "Encountered 429 Error (Rate Limit Exceeded)"
       ]
      },
      {
       "output_type": "stream",
       "stream": "stderr",
       "text": [
        "\n",
        "Retrying in 15 minutes...ZzZ...\n"
       ]
      },
      {
       "output_type": "stream",
       "stream": "stderr",
       "text": [
        "...ZzZ...Awake now and trying again.\n",
        "Fetched 8 total friends ids for 500364862"
       ]
      },
      {
       "output_type": "stream",
       "stream": "stderr",
       "text": [
        "\n",
        "Fetched 32 total friends ids for 637075471"
       ]
      },
      {
       "output_type": "stream",
       "stream": "stderr",
       "text": [
        "\n",
        "Fetched 686 total friends ids for 15160540"
       ]
      },
      {
       "output_type": "stream",
       "stream": "stderr",
       "text": [
        "\n",
        "Fetched 264 total friends ids for 587244815"
       ]
      },
      {
       "output_type": "stream",
       "stream": "stderr",
       "text": [
        "\n",
        "Fetched 114 total friends ids for 15463062"
       ]
      },
      {
       "output_type": "stream",
       "stream": "stderr",
       "text": [
        "\n",
        "Fetched 347 total friends ids for 5491"
       ]
      },
      {
       "output_type": "stream",
       "stream": "stderr",
       "text": [
        "\n",
        "Fetched 371 total friends ids for 217771939"
       ]
      },
      {
       "output_type": "stream",
       "stream": "stderr",
       "text": [
        "\n",
        "Fetched 3 total friends ids for 490363356"
       ]
      },
      {
       "output_type": "stream",
       "stream": "stderr",
       "text": [
        "\n",
        "Fetched 184 total friends ids for 2329921"
       ]
      },
      {
       "output_type": "stream",
       "stream": "stderr",
       "text": [
        "\n",
        "Fetched 5000 total friends ids for 29354944"
       ]
      },
      {
       "output_type": "stream",
       "stream": "stderr",
       "text": [
        "\n",
        "Fetched 10000 total friends ids for 29354944"
       ]
      },
      {
       "output_type": "stream",
       "stream": "stderr",
       "text": [
        "\n",
        "Fetched 53 total friends ids for 19296759"
       ]
      },
      {
       "output_type": "stream",
       "stream": "stderr",
       "text": [
        "\n",
        "Fetched 143 total friends ids for 8143682"
       ]
      },
      {
       "output_type": "stream",
       "stream": "stderr",
       "text": [
        "\n",
        "Fetched 5000 total friends ids for 214272214"
       ]
      },
      {
       "output_type": "stream",
       "stream": "stderr",
       "text": [
        "\n",
        "Fetched 9374 total friends ids for 214272214"
       ]
      },
      {
       "output_type": "stream",
       "stream": "stderr",
       "text": [
        "\n",
        "Encountered 429 Error (Rate Limit Exceeded)"
       ]
      },
      {
       "output_type": "stream",
       "stream": "stderr",
       "text": [
        "\n",
        "Retrying in 15 minutes...ZzZ...\n"
       ]
      },
      {
       "output_type": "stream",
       "stream": "stderr",
       "text": [
        "...ZzZ...Awake now and trying again.\n",
        "Fetched 95 total friends ids for 529438517"
       ]
      },
      {
       "output_type": "stream",
       "stream": "stderr",
       "text": [
        "\n",
        "Fetched 578 total friends ids for 579299426"
       ]
      },
      {
       "output_type": "stream",
       "stream": "stderr",
       "text": [
        "\n",
        "Fetched 143 total friends ids for 149806281"
       ]
      },
      {
       "output_type": "stream",
       "stream": "stderr",
       "text": [
        "\n",
        "Fetched 224 total friends ids for 30706856"
       ]
      },
      {
       "output_type": "stream",
       "stream": "stderr",
       "text": [
        "\n",
        "Fetched 343 total friends ids for 171534539"
       ]
      },
      {
       "output_type": "stream",
       "stream": "stderr",
       "text": [
        "\n",
        "Fetched 2218 total friends ids for 26840151"
       ]
      },
      {
       "output_type": "stream",
       "stream": "stderr",
       "text": [
        "\n",
        "Encountered 401 Error (Not Authorized)"
       ]
      },
      {
       "output_type": "stream",
       "stream": "stderr",
       "text": [
        "\n",
        "Fetched 0 total friends ids for 29737129\n",
        "Fetched 505 total friends ids for 5931872"
       ]
      },
      {
       "output_type": "stream",
       "stream": "stderr",
       "text": [
        "\n",
        "Fetched 170 total friends ids for 26419626"
       ]
      },
      {
       "output_type": "stream",
       "stream": "stderr",
       "text": [
        "\n",
        "Fetched 168 total friends ids for 36875380"
       ]
      },
      {
       "output_type": "stream",
       "stream": "stderr",
       "text": [
        "\n",
        "Fetched 816 total friends ids for 27047369"
       ]
      },
      {
       "output_type": "stream",
       "stream": "stderr",
       "text": [
        "\n",
        "Fetched 837 total friends ids for 2335431"
       ]
      },
      {
       "output_type": "stream",
       "stream": "stderr",
       "text": [
        "\n",
        "Fetched 9 total friends ids for 20974391"
       ]
      },
      {
       "output_type": "stream",
       "stream": "stderr",
       "text": [
        "\n",
        "Fetched 82 total friends ids for 18913738"
       ]
      },
      {
       "output_type": "stream",
       "stream": "stderr",
       "text": [
        "\n",
        "Fetched 57 total friends ids for 16172894"
       ]
      },
      {
       "output_type": "stream",
       "stream": "stderr",
       "text": [
        "\n",
        "Encountered 429 Error (Rate Limit Exceeded)"
       ]
      },
      {
       "output_type": "stream",
       "stream": "stderr",
       "text": [
        "\n",
        "Retrying in 15 minutes...ZzZ...\n"
       ]
      },
      {
       "output_type": "stream",
       "stream": "stderr",
       "text": [
        "...ZzZ...Awake now and trying again.\n",
        "Fetched 207 total friends ids for 22979111"
       ]
      },
      {
       "output_type": "stream",
       "stream": "stderr",
       "text": [
        "\n",
        "Fetched 330 total friends ids for 16174436"
       ]
      },
      {
       "output_type": "stream",
       "stream": "stderr",
       "text": [
        "\n",
        "Fetched 14 total friends ids for 23989296"
       ]
      },
      {
       "output_type": "stream",
       "stream": "stdout",
       "text": [
        "Done 1.77201638891 minutes\n"
       ]
      },
      {
       "output_type": "stream",
       "stream": "stderr",
       "text": [
        "\n"
       ]
      }
     ],
     "prompt_number": 4
    },
    {
     "cell_type": "code",
     "collapsed": false,
     "input": [
      "with open(path+\"new_net.txt\", \"a\") as file:\n",
      "    for friend_id in friend_ids:\n",
      "        file.write(str(barabasi_id) + \" \" + str(friend_id)+\"\\r\\n\" )"
     ],
     "language": "python",
     "metadata": {},
     "outputs": [
      {
       "metadata": {},
       "output_type": "pyout",
       "prompt_number": 3,
       "text": [
        "'56341402'"
       ]
      }
     ],
     "prompt_number": 3
    },
    {
     "cell_type": "code",
     "collapsed": false,
     "input": [],
     "language": "python",
     "metadata": {},
     "outputs": []
    }
   ],
   "metadata": {}
  }
 ]
}